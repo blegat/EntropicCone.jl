{
 "cells": [
  {
   "cell_type": "markdown",
   "metadata": {},
   "source": [
    "Needs to clone EntropicCone.jl and QHull.jl and to checkout Polyhedra.jl"
   ]
  },
  {
   "cell_type": "code",
   "execution_count": 1,
   "metadata": {},
   "outputs": [],
   "source": [
    "using EntropicCone, Polyhedra, QHull, GLPK, JuMP, LinearAlgebra"
   ]
  },
  {
   "cell_type": "markdown",
   "metadata": {},
   "source": [
    "Creates an outer bound to the entropic cone of 3 variables using the Shannon inequalities"
   ]
  },
  {
   "cell_type": "code",
   "execution_count": 2,
   "metadata": {},
   "outputs": [
    {
     "data": {
      "text/plain": [
       "EntropyCone{Float64}(3, HalfSpace([0.0, 0.0, 1.0, 0.0, 0.0, 0.0, -1.0], 0.0) ∩ HalfSpace([0.0, 0.0, 0.0, 0.0, 1.0, 0.0, -1.0], 0.0) ∩ HalfSpace([0.0, 0.0, 0.0, 0.0, 0.0, 1.0, -1.0], 0.0) ∩ HalfSpace([-1.0, -1.0, 1.0, 0.0, 0.0, 0.0, 0.0], 0.0) ∩ HalfSpace([-1.0, 0.0, 0.0, -1.0, 1.0, 0.0, 0.0], 0.0) ∩ HalfSpace([0.0, -1.0, 0.0, -1.0, 0.0, 1.0, 0.0], 0.0) ∩ HalfSpace([1.0, 0.0, -1.0, 0.0, -1.0, 0.0, 1.0], 0.0) ∩ HalfSpace([0.0, 1.0, -1.0, 0.0, 0.0, -1.0, 1.0], 0.0) ∩ HalfSpace([0.0, 0.0, 0.0, 1.0, -1.0, -1.0, 1.0], 0.0))"
      ]
     },
     "execution_count": 2,
     "metadata": {},
     "output_type": "execute_result"
    }
   ],
   "source": [
    "h = polymatroidcone(3, QHull.Library(with_optimizer(GLPK.Optimizer)))"
   ]
  },
  {
   "cell_type": "markdown",
   "metadata": {},
   "source": [
    "Fix the entropy of each random variable respectively to 1, 2 and 3 (i.e. $H(X_i) = i$ for $i = 1, \\ldots, 3$) and eliminate these dimensions."
   ]
  },
  {
   "cell_type": "code",
   "execution_count": 3,
   "metadata": {},
   "outputs": [],
   "source": [
    "p = Polyhedra.fixandeliminate(h.poly, [0b001, 0b010, 0b100], [1, 2, 3]);"
   ]
  },
  {
   "cell_type": "markdown",
   "metadata": {},
   "source": [
    "The volume is 0.5 as shown below:"
   ]
  },
  {
   "cell_type": "code",
   "execution_count": 4,
   "metadata": {},
   "outputs": [
    {
     "data": {
      "text/plain": [
       "0.5000000000000001"
      ]
     },
     "execution_count": 4,
     "metadata": {},
     "output_type": "execute_result"
    }
   ],
   "source": [
    "volume(p)"
   ]
  },
  {
   "cell_type": "markdown",
   "metadata": {},
   "source": [
    "The entropy $H(X_1X_2x_3)$ is between 3 and 6 as shown below:"
   ]
  },
  {
   "cell_type": "code",
   "execution_count": 5,
   "metadata": {},
   "outputs": [
    {
     "data": {
      "text/plain": [
       "3.0"
      ]
     },
     "execution_count": 5,
     "metadata": {},
     "output_type": "execute_result"
    }
   ],
   "source": [
    "model = Model(with_optimizer(GLPK.Optimizer))\n",
    "x = @variable(model, [1:fulldim(p)])\n",
    "@constraint(model, x in p)\n",
    "\n",
    "c = zeros(fulldim(p)); c[end] = 1\n",
    "\n",
    "@objective(model, Min, c ⋅ x)\n",
    "optimize!(model)\n",
    "round(JuMP.value.(x)[end])"
   ]
  },
  {
   "cell_type": "code",
   "execution_count": 6,
   "metadata": {},
   "outputs": [
    {
     "data": {
      "text/plain": [
       "6.0"
      ]
     },
     "execution_count": 6,
     "metadata": {},
     "output_type": "execute_result"
    }
   ],
   "source": [
    "@objective(model, Max, c ⋅ x)\n",
    "optimize!(model)\n",
    "round(JuMP.value.(x)[end])"
   ]
  },
  {
   "cell_type": "code",
   "execution_count": null,
   "metadata": {},
   "outputs": [],
   "source": []
  }
 ],
 "metadata": {
  "kernelspec": {
   "display_name": "Julia 1.3.1",
   "language": "julia",
   "name": "julia-1.3"
  },
  "language_info": {
   "file_extension": ".jl",
   "mimetype": "application/julia",
   "name": "julia",
   "version": "1.3.1"
  }
 },
 "nbformat": 4,
 "nbformat_minor": 2
}
